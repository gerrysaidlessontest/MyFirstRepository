{
 "cells": [
  {
   "cell_type": "markdown",
   "id": "fe5e8a13-905c-4392-baef-606f580e833b",
   "metadata": {},
   "source": [
    "# Welcome to Jupyter Notebook\n",
    "## This is a subtitle\n",
    "\n",
    "The repository I am going to use for my DSS course.  Now I have changed some other text on this repository as well.\n",
    "\n",
    "So these changes are now going to be reflected on the internet..some changes\n",
    "\n",
    "\n",
    "\n",
    "\n"
   ]
  },
  {
   "cell_type": "code",
   "execution_count": 11,
   "id": "17de9a27-131c-42ce-8e2a-2a601fb53d90",
   "metadata": {},
   "outputs": [
    {
     "name": "stdout",
     "output_type": "stream",
     "text": [
      "hello world\n"
     ]
    }
   ],
   "source": [
    "print('hello world')"
   ]
  },
  {
   "cell_type": "code",
   "execution_count": null,
   "id": "abbf9f49-e301-40c1-9347-0b256d975831",
   "metadata": {},
   "outputs": [],
   "source": []
  }
 ],
 "metadata": {
  "kernelspec": {
   "display_name": "Python [conda env:pytorch_env]",
   "language": "python",
   "name": "conda-env-pytorch_env-py"
  },
  "language_info": {
   "codemirror_mode": {
    "name": "ipython",
    "version": 3
   },
   "file_extension": ".py",
   "mimetype": "text/x-python",
   "name": "python",
   "nbconvert_exporter": "python",
   "pygments_lexer": "ipython3",
   "version": "3.11.11"
  }
 },
 "nbformat": 4,
 "nbformat_minor": 5
}
