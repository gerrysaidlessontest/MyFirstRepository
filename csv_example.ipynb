{
 "cells": [
  {
   "cell_type": "markdown",
   "id": "f2ae25ad",
   "metadata": {},
   "source": [
    "# Load CSV Example\n",
    "## Step 1 (Loading the CSV into the dataframe)\n",
    "\n",
    "In following cell we are going to be loading a CSV file into a dataframe.\n",
    "\n",
    "\n",
    "|   |   |   |   |   |\n",
    "|---|---|---|---|---|\n",
    "| A  | B  | C  | D  | E  |\n",
    "\n"
   ]
  },
  {
   "cell_type": "code",
   "execution_count": null,
   "id": "e5309a44",
   "metadata": {},
   "outputs": [],
   "source": []
  },
  {
   "cell_type": "code",
   "execution_count": 15,
   "id": "6b148fb1",
   "metadata": {},
   "outputs": [
    {
     "name": "stdout",
     "output_type": "stream",
     "text": [
      "(2, 4)\n"
     ]
    }
   ],
   "source": [
    "import pandas as pd\n",
    "\n",
    "df1 = pd.read_csv('Datasets/namelist.csv')\n",
    "\n",
    "df1.head()\n",
    "\n",
    "print(df1.shape)\n",
    "\n",
    "df1.describe()\n",
    "\n",
    "df1.head()\n",
    "\n",
    "df1['Name'] = df1['Name'].str.strip()\n",
    "\n",
    "\n",
    "\n",
    "\n",
    "\n",
    "\n",
    "\n",
    "df1.to_csv('Datasets/namelist_cleaned.csv')\n",
    "\n",
    "\n",
    "\n",
    "\n",
    "\n",
    "\n"
   ]
  },
  {
   "cell_type": "markdown",
   "id": "de972375",
   "metadata": {},
   "source": [
    "## Reindexing and experiments with indices\n",
    "\n",
    "In this case, I am going to reload namelist and examine what happens when I have missing values in specific columns in my CSV file"
   ]
  },
  {
   "cell_type": "code",
   "execution_count": 16,
   "id": "3120e7ad",
   "metadata": {},
   "outputs": [
    {
     "data": {
      "text/html": [
       "<div>\n",
       "<style scoped>\n",
       "    .dataframe tbody tr th:only-of-type {\n",
       "        vertical-align: middle;\n",
       "    }\n",
       "\n",
       "    .dataframe tbody tr th {\n",
       "        vertical-align: top;\n",
       "    }\n",
       "\n",
       "    .dataframe thead th {\n",
       "        text-align: right;\n",
       "    }\n",
       "</style>\n",
       "<table border=\"1\" class=\"dataframe\">\n",
       "  <thead>\n",
       "    <tr style=\"text-align: right;\">\n",
       "      <th></th>\n",
       "      <th>Unnamed: 0</th>\n",
       "      <th>ID</th>\n",
       "      <th>Name</th>\n",
       "      <th>Surname</th>\n",
       "      <th>Git Repository</th>\n",
       "    </tr>\n",
       "  </thead>\n",
       "  <tbody>\n",
       "    <tr>\n",
       "      <th>0</th>\n",
       "      <td>0</td>\n",
       "      <td>1</td>\n",
       "      <td>Gerard</td>\n",
       "      <td>Said Pullicino</td>\n",
       "      <td>https://github.com/gerrysaidlessontest/MyFirst...</td>\n",
       "    </tr>\n",
       "    <tr>\n",
       "      <th>1</th>\n",
       "      <td>1</td>\n",
       "      <td>2</td>\n",
       "      <td>Peter</td>\n",
       "      <td>Borg</td>\n",
       "      <td>https://google.com</td>\n",
       "    </tr>\n",
       "    <tr>\n",
       "      <th>2</th>\n",
       "      <td></td>\n",
       "      <td></td>\n",
       "      <td>Joe</td>\n",
       "      <td>Fenech</td>\n",
       "      <td>https://google2.com</td>\n",
       "    </tr>\n",
       "    <tr>\n",
       "      <th>3</th>\n",
       "      <td>2</td>\n",
       "      <td></td>\n",
       "      <td>Peter</td>\n",
       "      <td>Said Pullicino</td>\n",
       "      <td>https://google3.com</td>\n",
       "    </tr>\n",
       "  </tbody>\n",
       "</table>\n",
       "</div>"
      ],
      "text/plain": [
       "  Unnamed: 0 ID    Name         Surname  \\\n",
       "0          0  1  Gerard  Said Pullicino   \n",
       "1          1  2   Peter            Borg   \n",
       "2                   Joe          Fenech   \n",
       "3          2      Peter  Said Pullicino   \n",
       "\n",
       "                                      Git Repository  \n",
       "0  https://github.com/gerrysaidlessontest/MyFirst...  \n",
       "1                                 https://google.com  \n",
       "2                                https://google2.com  \n",
       "3                                https://google3.com  "
      ]
     },
     "execution_count": 16,
     "metadata": {},
     "output_type": "execute_result"
    }
   ],
   "source": [
    "df2 = pd.read_csv('Datasets/namelist2.csv')\n",
    "\n",
    "df2.head()"
   ]
  }
 ],
 "metadata": {
  "kernelspec": {
   "display_name": "Python 3",
   "language": "python",
   "name": "python3"
  },
  "language_info": {
   "codemirror_mode": {
    "name": "ipython",
    "version": 3
   },
   "file_extension": ".py",
   "mimetype": "text/x-python",
   "name": "python",
   "nbconvert_exporter": "python",
   "pygments_lexer": "ipython3",
   "version": "3.12.9"
  }
 },
 "nbformat": 4,
 "nbformat_minor": 5
}
